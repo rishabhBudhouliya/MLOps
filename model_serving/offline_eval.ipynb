{
 "cells": [
  {
   "cell_type": "code",
   "execution_count": null,
   "id": "c27193b2-d1a3-4bb0-a0f4-43a1d86a7c4c",
   "metadata": {},
   "outputs": [],
   "source": [
    "# Install necessary packages\n",
    "!pip install transformers datasets torch accelerate bitsandbytes sentencepiece peft trl bert-score mlflow\n",
    "!pip install evaluate bert-score"
   ]
  },
  {
   "cell_type": "code",
   "execution_count": 4,
   "id": "f51947f0-2f03-41c0-8ad4-dccde63b331f",
   "metadata": {},
   "outputs": [],
   "source": [
    "import torch\n",
    "from datasets import load_dataset\n",
    "import time\n",
    "import accelerate\n",
    "from accelerate import infer_auto_device_map, dispatch_model\n",
    "from types import MethodType\n",
    "import gc\n",
    "from transformers import BitsAndBytesConfig, AutoTokenizer, AutoModelForCausalLM, TrainingArguments, GenerationConfig\n",
    "import mlflow\n",
    "import mlflow.pytorch\n",
    "import subprocess\n",
    "from transformers.cache_utils import Cache, DynamicCache\n",
    "import json\n",
    "import os\n",
    "import pandas as pd\n",
    "from peft import LoraConfig, get_peft_model, prepare_model_for_kbit_training\n",
    "from trl import SFTTrainer\n",
    "from bert_score import score as bertscore\n",
    "import numpy as np\n",
    "import gzip"
   ]
  },
  {
   "cell_type": "code",
   "execution_count": 5,
   "id": "40412002-1b79-4d0e-a258-131788abad70",
   "metadata": {},
   "outputs": [
    {
     "name": "stdout",
     "output_type": "stream",
     "text": [
      "Using device: cuda:0\n"
     ]
    }
   ],
   "source": [
    "device = torch.device(\"cuda:0\" if torch.cuda.is_available() else \"cpu\")\n",
    "print(f\"Using device: {device}\")"
   ]
  },
  {
   "cell_type": "code",
   "execution_count": 6,
   "id": "33c1d2bf-ebae-45f4-ada3-44d689c36219",
   "metadata": {},
   "outputs": [],
   "source": [
    "# Load and process dataset\n",
    "guidelines = \"\"\"Key guidelines to follow:\n",
    "- Use standard Java libraries instead of external ones like Commons I/O when possible.\n",
    "- Avoid deprecated APIs, especially in Jenkins core and plugins.\n",
    "- Write clear, descriptive method and variable names.\n",
    "- Add or update tests when modifying functionality or fixing bugs.\n",
    "- Do not include commented-out code or leftover TODOs.\n",
    "- Update documentation if user-facing behavior changes.\n",
    "- Keep commits focused and avoid mixing unrelated changes.\n",
    "- Code must compile cleanly and pass all tests.\n",
    "- Maintain consistent formatting and follow Jenkins coding style.\n",
    "Also consider other good practices not explicitly listed above.\"\"\"\n",
    "def format_prompt(example):\n",
    "    offset = example.get('offset')\n",
    "    offset_info = f\"The comment refers to line {offset} in the diff.\" if offset is not None else \"\"\n",
    "\n",
    "    formatted_comment = (\n",
    "        f\"<COMMENT offset=\\\"{offset}\\\">{example['comment']}\\n\"\n",
    "        if offset is not None and example.get('comment')\n",
    "        else example.get('comment', '')\n",
    "    )\n",
    "\n",
    "    prompt = f\"\"\"### Instruction:\n",
    "You are a code reviewer for a Jenkins plugin. Review the following diff for potential improvements or guideline violations.\n",
    "{offset_info}\n",
    "\n",
    "{guidelines}\n",
    "\n",
    "### Input:\n",
    "Diff snippet:\n",
    "{example['diff']}\n",
    "\n",
    "### Response:\n",
    "{formatted_comment}\"\"\"\n",
    "\n",
    "    tokens = tokenizer(prompt, truncation=True, padding='max_length', max_length=1024)\n",
    "    tokens[\"labels\"] = tokens[\"input_ids\"].copy()\n",
    "    return tokens\n"
   ]
  },
  {
   "cell_type": "code",
   "execution_count": 7,
   "id": "8e056550-ce05-41da-b551-a8d89756aba7",
   "metadata": {},
   "outputs": [],
   "source": [
    "from transformers import AutoTokenizer, AutoModelForCausalLM, Trainer, TrainingArguments, DataCollatorForLanguageModeling, DataCollatorForSeq2Seq\n",
    "from peft import get_peft_model, LoraConfig, TaskType, prepare_model_for_kbit_training\n",
    "from datasets import Dataset"
   ]
  },
  {
   "cell_type": "code",
   "execution_count": null,
   "id": "5c89e1da-9612-4108-9a36-805b667ee7f0",
   "metadata": {
    "scrolled": true
   },
   "outputs": [],
   "source": [
    "# Load tokenizer and model\n",
    "model_name = \"codellama/CodeLlama-7b-Instruct-hf\"\n",
    "tokenizer = AutoTokenizer.from_pretrained(model_name, use_fast=False, trust_remote_code=True)\n",
    "tokenizer.pad_token = tokenizer.eos_token\n",
    "\n",
    "# Load the model with proper device mapping\n",
    "model = AutoModelForCausalLM.from_pretrained(\n",
    "    model_name,\n",
    "    device_map=\"auto\",\n",
    "    load_in_8bit=True,\n",
    "    trust_remote_code=True\n",
    ")\n",
    "\n",
    "state_dict = torch.load(\"final_model.pth\", map_location=\"cuda\")  # or \"cuda\" if on GPU\n",
    "\n",
    "# If the .pth is just a `state_dict`, load it directly\n",
    "model.load_state_dict(state_dict, strict=False)  # strict=False allows partial loading\n"
   ]
  },
  {
   "cell_type": "code",
   "execution_count": 11,
   "id": "061a9798-2462-4ba5-b2a4-fae50a72342f",
   "metadata": {},
   "outputs": [
    {
     "name": "stdout",
     "output_type": "stream",
     "text": [
      "First record of the processed dataset:\n",
      "{\n",
      "    \"diff\": \"func (s *PluginsService) checkForUpdates(ctx context.Context) error {\\n@@ -195,6 +224,33 @@ func canUpdate(v1, v2 string) bool {\\n \\treturn ver1.LessThan(ver2)\\n }\\n \\n+func (s *PluginsService) isPluginUpdatable(ctx context.Context, plugin pluginstore.Plugin) bool {\\n+\\tif plugin.IsCorePlugin() || s.isManaged(ctx, plugin.ID) || s.isProvisioned(ctx, plugin.ID) {\",\n",
      "    \"comment\": \"You'd also need to check if the plugin is pinned to a version, like here:\\r\\nhttps://github.com/grafana/grafana/blob/main/apps/advisor/pkg/app/checks/plugincheck/check.go#L171\\r\\n\\r\\nSince we are duplicating code here, it sounds like it would be nice to create a service to expose an \\\"IsUpdatable\\\" function?\",\n",
      "    \"offset\": 4,\n",
      "    \"comment_commit_id\": \"0ee7c64baa6b455704545e432ce8956a665f047e\"\n",
      "}\n"
     ]
    }
   ],
   "source": [
    "import json\n",
    "import gzip\n",
    "\n",
    "def load_and_filter_dataset(file_path):\n",
    "    \"\"\"\n",
    "    Loads a gzipped JSONL file and extracts specific fields. Processes only the first comment\n",
    "    encountered for each unique 'comment_commit_id'.\n",
    "\n",
    "    Args:\n",
    "        file_path (str): The path to the .jsonl.gz file.\n",
    "\n",
    "    Returns:\n",
    "        list: A list of dictionaries, where each dictionary contains\n",
    "              'diff', 'comment', and 'offset' for each record.\n",
    "    \"\"\"\n",
    "    filtered_data = []\n",
    "    seen_commit_ids = set()  # Track seen commit IDs\n",
    "\n",
    "    with gzip.open(file_path, \"rt\", encoding=\"utf-8\") as f:\n",
    "        for line in f:\n",
    "            try:\n",
    "                record = json.loads(line)\n",
    "\n",
    "                # Skip if we've already seen this comment_commit_id\n",
    "                comment_commit_id = record.get('comment_commit_id')\n",
    "                if comment_commit_id and comment_commit_id in seen_commit_ids:\n",
    "                    continue  # Skip this record\n",
    "\n",
    "                # Mark this comment_commit_id as seen\n",
    "                if comment_commit_id:\n",
    "                    seen_commit_ids.add(comment_commit_id)\n",
    "\n",
    "                # The 'diff' in your original data is the main part of the diff.\n",
    "                # The 'diff_hunk_header' is the line that usually starts with '@@'.\n",
    "                # We'll combine them if both exist, or use whichever is present.\n",
    "                \n",
    "                diff_parts = []\n",
    "                if 'diff_hunk_header' in record and record['diff_hunk_header']:\n",
    "                    diff_parts.append(record['diff_hunk_header'])\n",
    "                if 'diff' in record and record['diff']:\n",
    "                    diff_parts.append(record['diff'])\n",
    "                \n",
    "                full_diff = \"\\n\".join(diff_parts) if diff_parts else None\n",
    "\n",
    "                filtered_record = {\n",
    "                    'diff': full_diff,\n",
    "                    'comment': record.get('comment_body'),  # Use .get() for safety if key might be missing\n",
    "                    'offset': record.get('line_offset'),    # Use .get() for safety\n",
    "                    'comment_commit_id': comment_commit_id  # Keep track of the commit ID\n",
    "                }\n",
    "                filtered_data.append(filtered_record)\n",
    "            except json.JSONDecodeError as e:\n",
    "                print(f\"Skipping line due to JSON decode error: {e} - Line: {line.strip()}\")\n",
    "            except KeyError as e:\n",
    "                print(f\"Skipping record due to missing key: {e} - Record: {record}\")\n",
    "\n",
    "    return filtered_data\n",
    "\n",
    "# --- --- --- --- --- --- --- --- --- --- --- --- --- --- ---\n",
    "#                  Example Usage:\n",
    "# --- --- --- --- --- --- --- --- --- --- --- --- --- --- ---\n",
    "\n",
    "# 1. Make sure 'train.jsonl.gz' is in the same directory as your script,\n",
    "#    or provide the full path to the file.\n",
    "file_path = \"val.jsonl.gz\"\n",
    "processed_dataset = load_and_filter_dataset(file_path)\n",
    "\n",
    "# 2. View the first record of your new dataset\n",
    "if processed_dataset:\n",
    "    print(\"First record of the processed dataset:\")\n",
    "    print(json.dumps(processed_dataset[0], indent=4)) # Pretty print the JSON\n",
    "else:\n",
    "    print(\"No data was processed. Check your file path and file content.\")\n",
    "\n"
   ]
  },
  {
   "cell_type": "code",
   "execution_count": 46,
   "id": "33d00999-67a8-4497-843e-815f280fc00c",
   "metadata": {},
   "outputs": [],
   "source": [
    "def format_prompt_for_inference(diff):\n",
    "    prompt = f\"\"\"### Instruction:\n",
    "You are a code reviewer for a Jenkins plugin. Review the following diff for potential improvements or guideline violations.\n",
    "If no issues are found, respond with: <COMMENT offset=\"None\">.\n",
    "\n",
    "{guidelines}\n",
    "\n",
    "### Input:\n",
    "Diff snippet:\n",
    "{diff}\n",
    "\n",
    "### Response:\"\"\"\n",
    "    tokens = tokenizer(prompt, truncation=True, padding='max_length', max_length=1024)\n",
    "    tokens[\"labels\"] = tokens[\"input_ids\"].copy()\n",
    "    return tokens\n",
    "\n",
    "\n",
    "\n",
    "\n",
    "# Prepare prompts\n",
    "inference_prompts = [\n",
    "    format_prompt_for_inference(e['diff'])\n",
    "    for e in processed_dataset if e['diff'] and e['comment']\n",
    "]\n",
    "eval_dataset = Dataset.from_list(inference_prompts)"
   ]
  },
  {
   "cell_type": "code",
   "execution_count": 21,
   "id": "2ff802e5-f524-4eb2-874b-2e7daf50e75a",
   "metadata": {},
   "outputs": [
    {
     "data": {
      "text/plain": [
       "LlamaForCausalLM(\n",
       "  (model): LlamaModel(\n",
       "    (embed_tokens): Embedding(32016, 4096)\n",
       "    (layers): ModuleList(\n",
       "      (0-31): 32 x LlamaDecoderLayer(\n",
       "        (self_attn): LlamaAttention(\n",
       "          (q_proj): Linear8bitLt(in_features=4096, out_features=4096, bias=False)\n",
       "          (k_proj): Linear8bitLt(in_features=4096, out_features=4096, bias=False)\n",
       "          (v_proj): Linear8bitLt(in_features=4096, out_features=4096, bias=False)\n",
       "          (o_proj): Linear8bitLt(in_features=4096, out_features=4096, bias=False)\n",
       "        )\n",
       "        (mlp): LlamaMLP(\n",
       "          (gate_proj): Linear8bitLt(in_features=4096, out_features=11008, bias=False)\n",
       "          (up_proj): Linear8bitLt(in_features=4096, out_features=11008, bias=False)\n",
       "          (down_proj): Linear8bitLt(in_features=11008, out_features=4096, bias=False)\n",
       "          (act_fn): SiLU()\n",
       "        )\n",
       "        (input_layernorm): LlamaRMSNorm((4096,), eps=1e-05)\n",
       "        (post_attention_layernorm): LlamaRMSNorm((4096,), eps=1e-05)\n",
       "      )\n",
       "    )\n",
       "    (norm): LlamaRMSNorm((4096,), eps=1e-05)\n",
       "    (rotary_emb): LlamaRotaryEmbedding()\n",
       "  )\n",
       "  (lm_head): Linear(in_features=4096, out_features=32016, bias=False)\n",
       ")"
      ]
     },
     "execution_count": 21,
     "metadata": {},
     "output_type": "execute_result"
    }
   ],
   "source": [
    "model.eval()"
   ]
  },
  {
   "cell_type": "code",
   "execution_count": 34,
   "id": "1b087e7f-6eb8-4fa3-94e7-3ba8a6426085",
   "metadata": {},
   "outputs": [],
   "source": [
    "from torch.utils.data import DataLoader\n",
    "from tqdm import tqdm\n",
    "from bert_score import score\n",
    "\n",
    "from transformers import default_data_collator\n",
    "subset_dataset = eval_dataset.select(range(0, 100))\n",
    "eval_loader = DataLoader(subset_dataset, batch_size=16, collate_fn=default_data_collator)\n",
    "\n",
    "\n",
    "generated_outputs = []\n",
    "references = []\n",
    "model.gradient_checkpointing_disable()\n"
   ]
  },
  {
   "cell_type": "code",
   "execution_count": 35,
   "id": "f32ecee7-73dd-4c26-88f7-64a4f88f54ec",
   "metadata": {},
   "outputs": [
    {
     "name": "stdout",
     "output_type": "stream",
     "text": [
      "813\n"
     ]
    }
   ],
   "source": [
    "print(len(eval_dataset))"
   ]
  },
  {
   "cell_type": "code",
   "execution_count": 36,
   "id": "192fa247-e0f4-4034-bd9e-43db57efba97",
   "metadata": {},
   "outputs": [
    {
     "name": "stderr",
     "output_type": "stream",
     "text": [
      "  0%|          | 0/7 [00:00<?, ?it/s]A decoder-only architecture is being used, but right-padding was detected! For correct generation results, please set `padding_side='left'` when initializing the tokenizer.\n",
      " 14%|█▍        | 1/7 [00:18<01:51, 18.56s/it]A decoder-only architecture is being used, but right-padding was detected! For correct generation results, please set `padding_side='left'` when initializing the tokenizer.\n",
      " 29%|██▊       | 2/7 [00:37<01:32, 18.50s/it]A decoder-only architecture is being used, but right-padding was detected! For correct generation results, please set `padding_side='left'` when initializing the tokenizer.\n",
      " 43%|████▎     | 3/7 [00:55<01:13, 18.43s/it]A decoder-only architecture is being used, but right-padding was detected! For correct generation results, please set `padding_side='left'` when initializing the tokenizer.\n",
      " 57%|█████▋    | 4/7 [01:13<00:55, 18.44s/it]A decoder-only architecture is being used, but right-padding was detected! For correct generation results, please set `padding_side='left'` when initializing the tokenizer.\n",
      " 71%|███████▏  | 5/7 [01:32<00:36, 18.47s/it]A decoder-only architecture is being used, but right-padding was detected! For correct generation results, please set `padding_side='left'` when initializing the tokenizer.\n",
      " 86%|████████▌ | 6/7 [01:50<00:18, 18.47s/it]A decoder-only architecture is being used, but right-padding was detected! For correct generation results, please set `padding_side='left'` when initializing the tokenizer.\n",
      "100%|██████████| 7/7 [02:03<00:00, 17.69s/it]\n"
     ]
    }
   ],
   "source": [
    "for i, batch in enumerate(tqdm(eval_loader)):\n",
    "    input_ids = batch[\"input_ids\"].to(device)\n",
    "    attention_mask = batch[\"attention_mask\"].to(device)\n",
    "\n",
    "    with torch.no_grad():\n",
    "        output_ids = model.generate(\n",
    "            input_ids=input_ids,\n",
    "            attention_mask=attention_mask,\n",
    "            max_new_tokens=128,\n",
    "            do_sample=False,\n",
    "            pad_token_id=tokenizer.eos_token_id\n",
    "        )\n",
    "\n",
    "    decoded = tokenizer.decode(output_ids[0], skip_special_tokens=True)\n",
    "\n",
    "    # Remove prompt portion\n",
    "    input_text = tokenizer.decode(input_ids[0], skip_special_tokens=True)\n",
    "    response_part = decoded[len(input_text):].strip()\n",
    "\n",
    "    generated_outputs.append(response_part)\n",
    "    references.append(processed_dataset[i][\"comment\"])\n"
   ]
  },
  {
   "cell_type": "code",
   "execution_count": 37,
   "id": "2eb8914e-5c5b-4fc2-a29d-74f9e177e2d6",
   "metadata": {},
   "outputs": [
    {
     "name": "stderr",
     "output_type": "stream",
     "text": [
      "Some weights of RobertaModel were not initialized from the model checkpoint at roberta-large and are newly initialized: ['pooler.dense.bias', 'pooler.dense.weight']\n",
      "You should probably TRAIN this model on a down-stream task to be able to use it for predictions and inference.\n"
     ]
    },
    {
     "name": "stdout",
     "output_type": "stream",
     "text": [
      "calculating scores...\n",
      "computing bert embedding.\n"
     ]
    },
    {
     "data": {
      "application/vnd.jupyter.widget-view+json": {
       "model_id": "17ef5c21a7b148c1b9265554bd3b4f53",
       "version_major": 2,
       "version_minor": 0
      },
      "text/plain": [
       "  0%|          | 0/1 [00:00<?, ?it/s]"
      ]
     },
     "metadata": {},
     "output_type": "display_data"
    },
    {
     "name": "stdout",
     "output_type": "stream",
     "text": [
      "computing greedy matching.\n"
     ]
    },
    {
     "data": {
      "application/vnd.jupyter.widget-view+json": {
       "model_id": "875645ba57b64e6bbe0463db14ad0ee3",
       "version_major": 2,
       "version_minor": 0
      },
      "text/plain": [
       "  0%|          | 0/1 [00:00<?, ?it/s]"
      ]
     },
     "metadata": {},
     "output_type": "display_data"
    },
    {
     "name": "stdout",
     "output_type": "stream",
     "text": [
      "done in 0.10 seconds, 70.59 sentences/sec\n",
      "\n",
      "--- BERTScore ---\n",
      "Average Precision: 0.7647\n",
      "Average Recall:    0.7794\n",
      "Average F1 Score:  0.7711\n"
     ]
    }
   ],
   "source": [
    "# Compute BERTScore\n",
    "assert len(generated_outputs) == len(references), \"Mismatch in output and reference lengths\"\n",
    "\n",
    "P, R, F1 = score(generated_outputs, references, lang=\"en\", verbose=True)\n",
    "\n",
    "print(f\"\\n--- BERTScore ---\")\n",
    "print(f\"Average Precision: {P.mean().item():.4f}\")\n",
    "print(f\"Average Recall:    {R.mean().item():.4f}\")\n",
    "print(f\"Average F1 Score:  {F1.mean().item():.4f}\")"
   ]
  },
  {
   "cell_type": "markdown",
   "id": "63d64867-a418-4312-a386-8769a737e2d2",
   "metadata": {},
   "source": [
    "TEST DATASET"
   ]
  },
  {
   "cell_type": "code",
   "execution_count": 38,
   "id": "9895dee0-ef87-4581-b48a-212fa21c31bd",
   "metadata": {},
   "outputs": [
    {
     "name": "stdout",
     "output_type": "stream",
     "text": [
      "First record of the processed dataset:\n",
      "{\n",
      "    \"diff\": \"function performConcurrentWorkOnRoot(root, didTimeout) {\\n@@ -838,45 +839,58 @@ function performConcurrentWorkOnRoot(root, didTimeout) {\\n       throw fatalError;\\n     }\\n \\n-    // Check if this render may have yielded to a concurrent event, and if so,\\n-    // confirm that any newly rendered stores are consistent.\\n-    // TODO: It's possible that even a concurrent render may never have yielded\\n-    // to the main thread, if it was fast enough, or if it expired. We could\\n-    // skip the consistency check in that case, too.\\n-    const renderWasConcurrent = !includesBlockingLane(root, lanes);\\n-    const finishedWork: Fiber = (root.current.alternate: any);\\n-    if (\\n-      renderWasConcurrent &&\\n-      !isRenderConsistentWithExternalStores(finishedWork)\\n-    ) {\\n-      // A store was mutated in an interleaved event. Render again,\\n-      // synchronously, to block further mutations.\\n-      exitStatus = renderRootSync(root, lanes);\\n-\\n-      // We need to check again if something threw\\n-      if (exitStatus === RootErrored) {\\n-        const errorRetryLanes = getLanesToRetrySynchronouslyOnError(root);\\n-        if (errorRetryLanes !== NoLanes) {\\n-          lanes = errorRetryLanes;\\n-          exitStatus = recoverFromConcurrentError(root, errorRetryLanes);\\n-          // We assume the tree is now consistent because we didn't yield to any\\n-          // concurrent events.\\n+    if (exitStatus === RootDidNotComplete) {\",\n",
      "    \"comment\": \"This is a new root exit status for when the render phase exits without completing. We treat this like a refresh transition: skip the commit phase and suspend the root so we don't continue working on it.\\r\\n\\r\\nIn the future, I expect we could use this mechanism to unwind from an aborted render without doing a second pass to render fallbacks and error boundaries.\",\n",
      "    \"offset\": 33,\n",
      "    \"comment_commit_id\": \"c14ca1f2373b4347260c520ffd5d11185820b8c6\"\n",
      "}\n"
     ]
    }
   ],
   "source": [
    "file_path = \"test.jsonl.gz\"\n",
    "processed_dataset_test = load_and_filter_dataset(file_path)\n",
    "\n",
    "# 2. View the first record of your new dataset\n",
    "if processed_dataset_test:\n",
    "    print(\"First record of the processed dataset:\")\n",
    "    print(json.dumps(processed_dataset_test[0], indent=4)) # Pretty print the JSON\n",
    "else:\n",
    "    print(\"No data was processed. Check your file path and file content.\")\n",
    "\n",
    "test_prompts = [\n",
    "    format_prompt_for_inference(e['diff'])\n",
    "    for e in processed_dataset_test if e['diff'] and e['comment']\n",
    "]\n",
    "test_dataset = Dataset.from_list(test_prompts)\n",
    "\n"
   ]
  },
  {
   "cell_type": "code",
   "execution_count": 39,
   "id": "a29cd9e3-c37a-4c19-a940-a2b30ee4d384",
   "metadata": {},
   "outputs": [
    {
     "name": "stdout",
     "output_type": "stream",
     "text": [
      "1484\n"
     ]
    }
   ],
   "source": [
    "print(len(test_dataset))\n"
   ]
  },
  {
   "cell_type": "code",
   "execution_count": 40,
   "id": "358d3ce0-bfd8-4061-a835-2f1986e70a4f",
   "metadata": {},
   "outputs": [],
   "source": [
    "subset_dataset = test_dataset.select(range(0, 800))\n",
    "test_loader = DataLoader(subset_dataset, batch_size=16, collate_fn=default_data_collator)\n",
    "\n",
    "generated_outputs = []\n",
    "references = []"
   ]
  },
  {
   "cell_type": "code",
   "execution_count": 41,
   "id": "af9c96b3-55ff-4b26-ac1f-efe73dc04bc8",
   "metadata": {},
   "outputs": [
    {
     "name": "stderr",
     "output_type": "stream",
     "text": [
      "  0%|          | 0/50 [00:00<?, ?it/s]A decoder-only architecture is being used, but right-padding was detected! For correct generation results, please set `padding_side='left'` when initializing the tokenizer.\n",
      "  2%|▏         | 1/50 [00:18<15:21, 18.80s/it]A decoder-only architecture is being used, but right-padding was detected! For correct generation results, please set `padding_side='left'` when initializing the tokenizer.\n",
      "  4%|▍         | 2/50 [00:37<14:55, 18.65s/it]A decoder-only architecture is being used, but right-padding was detected! For correct generation results, please set `padding_side='left'` when initializing the tokenizer.\n",
      "  6%|▌         | 3/50 [00:56<14:39, 18.71s/it]A decoder-only architecture is being used, but right-padding was detected! For correct generation results, please set `padding_side='left'` when initializing the tokenizer.\n",
      "  8%|▊         | 4/50 [01:14<14:16, 18.62s/it]A decoder-only architecture is being used, but right-padding was detected! For correct generation results, please set `padding_side='left'` when initializing the tokenizer.\n",
      " 10%|█         | 5/50 [01:33<13:54, 18.54s/it]A decoder-only architecture is being used, but right-padding was detected! For correct generation results, please set `padding_side='left'` when initializing the tokenizer.\n",
      " 12%|█▏        | 6/50 [01:51<13:32, 18.46s/it]A decoder-only architecture is being used, but right-padding was detected! For correct generation results, please set `padding_side='left'` when initializing the tokenizer.\n",
      " 14%|█▍        | 7/50 [02:09<13:15, 18.50s/it]A decoder-only architecture is being used, but right-padding was detected! For correct generation results, please set `padding_side='left'` when initializing the tokenizer.\n",
      " 16%|█▌        | 8/50 [02:28<12:55, 18.47s/it]A decoder-only architecture is being used, but right-padding was detected! For correct generation results, please set `padding_side='left'` when initializing the tokenizer.\n",
      " 18%|█▊        | 9/50 [02:46<12:37, 18.47s/it]A decoder-only architecture is being used, but right-padding was detected! For correct generation results, please set `padding_side='left'` when initializing the tokenizer.\n",
      " 20%|██        | 10/50 [03:05<12:21, 18.53s/it]A decoder-only architecture is being used, but right-padding was detected! For correct generation results, please set `padding_side='left'` when initializing the tokenizer.\n",
      " 22%|██▏       | 11/50 [03:24<12:03, 18.55s/it]A decoder-only architecture is being used, but right-padding was detected! For correct generation results, please set `padding_side='left'` when initializing the tokenizer.\n",
      " 24%|██▍       | 12/50 [03:42<11:46, 18.60s/it]A decoder-only architecture is being used, but right-padding was detected! For correct generation results, please set `padding_side='left'` when initializing the tokenizer.\n",
      " 26%|██▌       | 13/50 [04:01<11:28, 18.62s/it]A decoder-only architecture is being used, but right-padding was detected! For correct generation results, please set `padding_side='left'` when initializing the tokenizer.\n",
      " 28%|██▊       | 14/50 [04:19<11:08, 18.56s/it]A decoder-only architecture is being used, but right-padding was detected! For correct generation results, please set `padding_side='left'` when initializing the tokenizer.\n",
      " 30%|███       | 15/50 [04:38<10:47, 18.50s/it]A decoder-only architecture is being used, but right-padding was detected! For correct generation results, please set `padding_side='left'` when initializing the tokenizer.\n",
      " 32%|███▏      | 16/50 [04:56<10:29, 18.51s/it]A decoder-only architecture is being used, but right-padding was detected! For correct generation results, please set `padding_side='left'` when initializing the tokenizer.\n",
      " 34%|███▍      | 17/50 [05:15<10:13, 18.58s/it]A decoder-only architecture is being used, but right-padding was detected! For correct generation results, please set `padding_side='left'` when initializing the tokenizer.\n",
      " 36%|███▌      | 18/50 [05:34<09:54, 18.58s/it]A decoder-only architecture is being used, but right-padding was detected! For correct generation results, please set `padding_side='left'` when initializing the tokenizer.\n",
      " 38%|███▊      | 19/50 [05:52<09:37, 18.64s/it]A decoder-only architecture is being used, but right-padding was detected! For correct generation results, please set `padding_side='left'` when initializing the tokenizer.\n",
      " 40%|████      | 20/50 [06:11<09:19, 18.65s/it]A decoder-only architecture is being used, but right-padding was detected! For correct generation results, please set `padding_side='left'` when initializing the tokenizer.\n",
      " 42%|████▏     | 21/50 [06:30<09:00, 18.64s/it]A decoder-only architecture is being used, but right-padding was detected! For correct generation results, please set `padding_side='left'` when initializing the tokenizer.\n",
      " 44%|████▍     | 22/50 [06:48<08:39, 18.56s/it]A decoder-only architecture is being used, but right-padding was detected! For correct generation results, please set `padding_side='left'` when initializing the tokenizer.\n",
      " 46%|████▌     | 23/50 [07:06<08:20, 18.53s/it]A decoder-only architecture is being used, but right-padding was detected! For correct generation results, please set `padding_side='left'` when initializing the tokenizer.\n",
      " 48%|████▊     | 24/50 [07:25<08:01, 18.51s/it]A decoder-only architecture is being used, but right-padding was detected! For correct generation results, please set `padding_side='left'` when initializing the tokenizer.\n",
      " 50%|█████     | 25/50 [07:43<07:42, 18.49s/it]A decoder-only architecture is being used, but right-padding was detected! For correct generation results, please set `padding_side='left'` when initializing the tokenizer.\n",
      " 52%|█████▏    | 26/50 [08:02<07:22, 18.44s/it]A decoder-only architecture is being used, but right-padding was detected! For correct generation results, please set `padding_side='left'` when initializing the tokenizer.\n",
      " 54%|█████▍    | 27/50 [08:20<07:04, 18.45s/it]A decoder-only architecture is being used, but right-padding was detected! For correct generation results, please set `padding_side='left'` when initializing the tokenizer.\n",
      " 56%|█████▌    | 28/50 [08:39<06:45, 18.45s/it]A decoder-only architecture is being used, but right-padding was detected! For correct generation results, please set `padding_side='left'` when initializing the tokenizer.\n",
      " 58%|█████▊    | 29/50 [08:57<06:27, 18.44s/it]A decoder-only architecture is being used, but right-padding was detected! For correct generation results, please set `padding_side='left'` when initializing the tokenizer.\n",
      " 60%|██████    | 30/50 [09:16<06:11, 18.56s/it]A decoder-only architecture is being used, but right-padding was detected! For correct generation results, please set `padding_side='left'` when initializing the tokenizer.\n",
      " 62%|██████▏   | 31/50 [09:35<05:54, 18.65s/it]A decoder-only architecture is being used, but right-padding was detected! For correct generation results, please set `padding_side='left'` when initializing the tokenizer.\n",
      " 64%|██████▍   | 32/50 [09:53<05:35, 18.63s/it]A decoder-only architecture is being used, but right-padding was detected! For correct generation results, please set `padding_side='left'` when initializing the tokenizer.\n",
      " 66%|██████▌   | 33/50 [10:12<05:16, 18.60s/it]A decoder-only architecture is being used, but right-padding was detected! For correct generation results, please set `padding_side='left'` when initializing the tokenizer.\n",
      " 68%|██████▊   | 34/50 [10:31<04:58, 18.65s/it]A decoder-only architecture is being used, but right-padding was detected! For correct generation results, please set `padding_side='left'` when initializing the tokenizer.\n",
      " 70%|███████   | 35/50 [10:49<04:40, 18.68s/it]A decoder-only architecture is being used, but right-padding was detected! For correct generation results, please set `padding_side='left'` when initializing the tokenizer.\n",
      " 72%|███████▏  | 36/50 [11:08<04:21, 18.65s/it]A decoder-only architecture is being used, but right-padding was detected! For correct generation results, please set `padding_side='left'` when initializing the tokenizer.\n",
      " 74%|███████▍  | 37/50 [11:27<04:02, 18.66s/it]A decoder-only architecture is being used, but right-padding was detected! For correct generation results, please set `padding_side='left'` when initializing the tokenizer.\n",
      " 76%|███████▌  | 38/50 [11:45<03:43, 18.66s/it]A decoder-only architecture is being used, but right-padding was detected! For correct generation results, please set `padding_side='left'` when initializing the tokenizer.\n",
      " 78%|███████▊  | 39/50 [12:04<03:24, 18.61s/it]A decoder-only architecture is being used, but right-padding was detected! For correct generation results, please set `padding_side='left'` when initializing the tokenizer.\n",
      " 80%|████████  | 40/50 [12:22<03:05, 18.55s/it]A decoder-only architecture is being used, but right-padding was detected! For correct generation results, please set `padding_side='left'` when initializing the tokenizer.\n",
      " 82%|████████▏ | 41/50 [12:41<02:46, 18.49s/it]A decoder-only architecture is being used, but right-padding was detected! For correct generation results, please set `padding_side='left'` when initializing the tokenizer.\n",
      " 84%|████████▍ | 42/50 [12:59<02:27, 18.47s/it]A decoder-only architecture is being used, but right-padding was detected! For correct generation results, please set `padding_side='left'` when initializing the tokenizer.\n",
      " 86%|████████▌ | 43/50 [13:17<02:09, 18.45s/it]A decoder-only architecture is being used, but right-padding was detected! For correct generation results, please set `padding_side='left'` when initializing the tokenizer.\n",
      " 88%|████████▊ | 44/50 [13:36<01:50, 18.44s/it]A decoder-only architecture is being used, but right-padding was detected! For correct generation results, please set `padding_side='left'` when initializing the tokenizer.\n",
      " 90%|█████████ | 45/50 [13:54<01:32, 18.43s/it]A decoder-only architecture is being used, but right-padding was detected! For correct generation results, please set `padding_side='left'` when initializing the tokenizer.\n",
      " 92%|█████████▏| 46/50 [14:13<01:13, 18.43s/it]A decoder-only architecture is being used, but right-padding was detected! For correct generation results, please set `padding_side='left'` when initializing the tokenizer.\n",
      " 94%|█████████▍| 47/50 [14:31<00:55, 18.46s/it]A decoder-only architecture is being used, but right-padding was detected! For correct generation results, please set `padding_side='left'` when initializing the tokenizer.\n",
      " 96%|█████████▌| 48/50 [14:50<00:36, 18.43s/it]A decoder-only architecture is being used, but right-padding was detected! For correct generation results, please set `padding_side='left'` when initializing the tokenizer.\n",
      " 98%|█████████▊| 49/50 [15:08<00:18, 18.44s/it]A decoder-only architecture is being used, but right-padding was detected! For correct generation results, please set `padding_side='left'` when initializing the tokenizer.\n",
      "100%|██████████| 50/50 [15:26<00:00, 18.54s/it]\n"
     ]
    }
   ],
   "source": [
    "for i, batch in enumerate(tqdm(test_loader)):\n",
    "    input_ids = batch[\"input_ids\"].to(device)\n",
    "    attention_mask = batch[\"attention_mask\"].to(device)\n",
    "\n",
    "    with torch.no_grad():\n",
    "        output_ids = model.generate(\n",
    "            input_ids=input_ids,\n",
    "            attention_mask=attention_mask,\n",
    "            max_new_tokens=128,\n",
    "            do_sample=False,\n",
    "            pad_token_id=tokenizer.eos_token_id\n",
    "        )\n",
    "\n",
    "    decoded = tokenizer.decode(output_ids[0], skip_special_tokens=True)\n",
    "\n",
    "    # Remove prompt portion\n",
    "    input_text = tokenizer.decode(input_ids[0], skip_special_tokens=True)\n",
    "    response_part = decoded[len(input_text):].strip()\n",
    "\n",
    "    generated_outputs.append(response_part)\n",
    "    references.append(processed_dataset_test[i][\"comment\"])\n"
   ]
  },
  {
   "cell_type": "code",
   "execution_count": 42,
   "id": "9dba64ac-2475-419a-a714-94554b72b620",
   "metadata": {},
   "outputs": [
    {
     "name": "stderr",
     "output_type": "stream",
     "text": [
      "Some weights of RobertaModel were not initialized from the model checkpoint at roberta-large and are newly initialized: ['pooler.dense.bias', 'pooler.dense.weight']\n",
      "You should probably TRAIN this model on a down-stream task to be able to use it for predictions and inference.\n"
     ]
    },
    {
     "name": "stdout",
     "output_type": "stream",
     "text": [
      "calculating scores...\n",
      "computing bert embedding.\n"
     ]
    },
    {
     "data": {
      "application/vnd.jupyter.widget-view+json": {
       "model_id": "3418407f353749faaa2b49cd10c23771",
       "version_major": 2,
       "version_minor": 0
      },
      "text/plain": [
       "  0%|          | 0/2 [00:00<?, ?it/s]"
      ]
     },
     "metadata": {},
     "output_type": "display_data"
    },
    {
     "name": "stdout",
     "output_type": "stream",
     "text": [
      "computing greedy matching.\n"
     ]
    },
    {
     "data": {
      "application/vnd.jupyter.widget-view+json": {
       "model_id": "837e00187af443d0b74ae6f3f744e1bd",
       "version_major": 2,
       "version_minor": 0
      },
      "text/plain": [
       "  0%|          | 0/1 [00:00<?, ?it/s]"
      ]
     },
     "metadata": {},
     "output_type": "display_data"
    },
    {
     "name": "stdout",
     "output_type": "stream",
     "text": [
      "done in 1.11 seconds, 45.11 sentences/sec\n",
      "\n",
      "--- BERTScore ---\n",
      "Average Precision: 0.7777\n",
      "Average Recall:    0.8077\n",
      "Average F1 Score:  0.7919\n"
     ]
    }
   ],
   "source": [
    "# Compute BERTScore\n",
    "assert len(generated_outputs) == len(references), \"Mismatch in output and reference lengths\"\n",
    "\n",
    "P, R, F1 = score(generated_outputs, references, lang=\"en\", verbose=True)\n",
    "\n",
    "print(f\"\\n--- BERTScore ---\")\n",
    "print(f\"Average Precision: {P.mean().item():.4f}\")\n",
    "print(f\"Average Recall:    {R.mean().item():.4f}\")\n",
    "print(f\"Average F1 Score:  {F1.mean().item():.4f}\")"
   ]
  },
  {
   "cell_type": "code",
   "execution_count": 43,
   "id": "2db83559-edfd-4dbf-846c-064995b15cfe",
   "metadata": {},
   "outputs": [
    {
     "data": {
      "image/png": "[encoded data removed]",
      "text/plain": [
       "<Figure size 800x500 with 1 Axes>"
      ]
     },
     "metadata": {},
     "output_type": "display_data"
    }
   ],
   "source": [
    "import matplotlib.pyplot as plt\n",
    "\n",
    "# Convert F1 tensor to list\n",
    "f1_scores = F1.tolist()\n",
    "\n",
    "plt.figure(figsize=(8, 5))\n",
    "plt.hist(f1_scores, bins=20, edgecolor='black')\n",
    "plt.title(\"Histogram of BERTScore F1 Scores\")\n",
    "plt.xlabel(\"F1 Score\")\n",
    "plt.ylabel(\"Number of Samples\")\n",
    "plt.grid(True)\n",
    "plt.show()\n"
   ]
  },
  {
   "cell_type": "code",
   "execution_count": 44,
   "id": "14fc99d1-4377-4ba1-a778-e27c9c6a913a",
   "metadata": {},
   "outputs": [
    {
     "data": {
      "image/png": "[encoded data removed]",
      "text/plain": [
       "<Figure size 800x500 with 1 Axes>"
      ]
     },
     "metadata": {},
     "output_type": "display_data"
    }
   ],
   "source": [
    "prompt_lengths = [len(tokenizer.decode(eval_dataset[i][\"input_ids\"], skip_special_tokens=True).split()) for i in range(len(generated_outputs))]\n",
    "\n",
    "plt.figure(figsize=(8, 5))\n",
    "plt.scatter(prompt_lengths, f1_scores, alpha=0.7)\n",
    "plt.title(\"BERTScore F1 vs. Prompt Length\")\n",
    "plt.xlabel(\"Prompt Length (tokens)\")\n",
    "plt.ylabel(\"F1 Score\")\n",
    "plt.grid(True)\n",
    "plt.show()\n"
   ]
  },
  {
   "cell_type": "code",
   "execution_count": 45,
   "id": "19ec9cd2-7b45-4f7a-acce-96bc77afcffe",
   "metadata": {},
   "outputs": [
    {
     "data": {
      "text/html": [
       "<div>\n",
       "<style scoped>\n",
       "    .dataframe tbody tr th:only-of-type {\n",
       "        vertical-align: middle;\n",
       "    }\n",
       "\n",
       "    .dataframe tbody tr th {\n",
       "        vertical-align: top;\n",
       "    }\n",
       "\n",
       "    .dataframe thead th {\n",
       "        text-align: right;\n",
       "    }\n",
       "</style>\n",
       "<table border=\"1\" class=\"dataframe\">\n",
       "  <thead>\n",
       "    <tr style=\"text-align: right;\">\n",
       "      <th></th>\n",
       "      <th>F1 Score</th>\n",
       "      <th>Generated</th>\n",
       "      <th>Reference</th>\n",
       "    </tr>\n",
       "  </thead>\n",
       "  <tbody>\n",
       "    <tr>\n",
       "      <th>0</th>\n",
       "      <td>0.744967</td>\n",
       "      <td>package.json\\n&lt;COMMENT offset=\"1\"&gt;\\nThis file ...</td>\n",
       "      <td>[CI is using experimental](https://app.circlec...</td>\n",
       "    </tr>\n",
       "    <tr>\n",
       "      <th>1</th>\n",
       "      <td>0.745964</td>\n",
       "      <td>package.json\\n&lt;COMMENT offset=\"114\"&gt;\\nThis fun...</td>\n",
       "      <td>This should minify better:\\r\\n\\r\\n```js\\r\\n   ...</td>\n",
       "    </tr>\n",
       "    <tr>\n",
       "      <th>2</th>\n",
       "      <td>0.747544</td>\n",
       "      <td>package com.cloudbees.jenkins.plugins.bitbucke...</td>\n",
       "      <td>Why do this lazily here rather than eagerly in...</td>\n",
       "    </tr>\n",
       "    <tr>\n",
       "      <th>3</th>\n",
       "      <td>0.751747</td>\n",
       "      <td>&lt;COMMENT offset=\"None\"&gt;</td>\n",
       "      <td>TIL</td>\n",
       "    </tr>\n",
       "    <tr>\n",
       "      <th>4</th>\n",
       "      <td>0.767274</td>\n",
       "      <td>package.json\\n&lt;COMMENT offset=\"1\"&gt;\\nThis is a ...</td>\n",
       "      <td>Stray log</td>\n",
       "    </tr>\n",
       "    <tr>\n",
       "      <th>5</th>\n",
       "      <td>0.770478</td>\n",
       "      <td>package.json\\n&lt;COMMENT offset=\"1\"&gt;\\nThis file ...</td>\n",
       "      <td>Might want to check that the matching string i...</td>\n",
       "    </tr>\n",
       "    <tr>\n",
       "      <th>6</th>\n",
       "      <td>0.770892</td>\n",
       "      <td>-\\t\\tfindWidgets.set(instance, widget);\\n-\\t\\t...</td>\n",
       "      <td>I think this was just a mistake and it was mea...</td>\n",
       "    </tr>\n",
       "    <tr>\n",
       "      <th>7</th>\n",
       "      <td>0.772640</td>\n",
       "      <td>package org.jenkinsci.plugins.workflow.support...</td>\n",
       "      <td>Caused by https://github.com/facebook/react/pu...</td>\n",
       "    </tr>\n",
       "    <tr>\n",
       "      <th>8</th>\n",
       "      <td>0.773041</td>\n",
       "      <td>package.json\\n&lt;COMMENT offset=\"1\"&gt;\\nThis file ...</td>\n",
       "      <td>I think you meant `!supportsMutation` here, no...</td>\n",
       "    </tr>\n",
       "    <tr>\n",
       "      <th>9</th>\n",
       "      <td>0.773177</td>\n",
       "      <td>package org.jenkinsci.plugins.workflow.steps.t...</td>\n",
       "      <td>We should really avoid this stuff because it m...</td>\n",
       "    </tr>\n",
       "  </tbody>\n",
       "</table>\n",
       "</div>"
      ],
      "text/plain": [
       "   F1 Score                                          Generated  \\\n",
       "0  0.744967  package.json\\n<COMMENT offset=\"1\">\\nThis file ...   \n",
       "1  0.745964  package.json\\n<COMMENT offset=\"114\">\\nThis fun...   \n",
       "2  0.747544  package com.cloudbees.jenkins.plugins.bitbucke...   \n",
       "3  0.751747                            <COMMENT offset=\"None\">   \n",
       "4  0.767274  package.json\\n<COMMENT offset=\"1\">\\nThis is a ...   \n",
       "5  0.770478  package.json\\n<COMMENT offset=\"1\">\\nThis file ...   \n",
       "6  0.770892  -\\t\\tfindWidgets.set(instance, widget);\\n-\\t\\t...   \n",
       "7  0.772640  package org.jenkinsci.plugins.workflow.support...   \n",
       "8  0.773041  package.json\\n<COMMENT offset=\"1\">\\nThis file ...   \n",
       "9  0.773177  package org.jenkinsci.plugins.workflow.steps.t...   \n",
       "\n",
       "                                           Reference  \n",
       "0  [CI is using experimental](https://app.circlec...  \n",
       "1  This should minify better:\\r\\n\\r\\n```js\\r\\n   ...  \n",
       "2  Why do this lazily here rather than eagerly in...  \n",
       "3                                                TIL  \n",
       "4                                          Stray log  \n",
       "5  Might want to check that the matching string i...  \n",
       "6  I think this was just a mistake and it was mea...  \n",
       "7  Caused by https://github.com/facebook/react/pu...  \n",
       "8  I think you meant `!supportsMutation` here, no...  \n",
       "9  We should really avoid this stuff because it m...  "
      ]
     },
     "execution_count": 45,
     "metadata": {},
     "output_type": "execute_result"
    }
   ],
   "source": [
    "import pandas as pd\n",
    "\n",
    "# Create table of predictions and scores\n",
    "df = pd.DataFrame({\n",
    "    \"F1 Score\": f1_scores,\n",
    "    \"Generated\": generated_outputs,\n",
    "    \"Reference\": references\n",
    "})\n",
    "\n",
    "# Sort by lowest F1\n",
    "df_sorted = df.sort_values(\"F1 Score\").reset_index(drop=True)\n",
    "\n",
    "# Show worst 10\n",
    "df_sorted.head(10)\n"
   ]
  },
  {
   "cell_type": "markdown",
   "id": "bdec7769-009c-4914-9923-9489e9b297fc",
   "metadata": {},
   "source": [
    "Prompt Engineering\n",
    "Modified Prompt: Removed the <COMMENT OFFSET> format"
   ]
  },
  {
   "cell_type": "code",
   "execution_count": 47,
   "id": "b76d2077-9918-41e3-86af-e83425ff47fe",
   "metadata": {},
   "outputs": [
    {
     "name": "stdout",
     "output_type": "stream",
     "text": [
      "First record of the processed dataset:\n",
      "{\n",
      "    \"diff\": \"function performConcurrentWorkOnRoot(root, didTimeout) {\\n@@ -838,45 +839,58 @@ function performConcurrentWorkOnRoot(root, didTimeout) {\\n       throw fatalError;\\n     }\\n \\n-    // Check if this render may have yielded to a concurrent event, and if so,\\n-    // confirm that any newly rendered stores are consistent.\\n-    // TODO: It's possible that even a concurrent render may never have yielded\\n-    // to the main thread, if it was fast enough, or if it expired. We could\\n-    // skip the consistency check in that case, too.\\n-    const renderWasConcurrent = !includesBlockingLane(root, lanes);\\n-    const finishedWork: Fiber = (root.current.alternate: any);\\n-    if (\\n-      renderWasConcurrent &&\\n-      !isRenderConsistentWithExternalStores(finishedWork)\\n-    ) {\\n-      // A store was mutated in an interleaved event. Render again,\\n-      // synchronously, to block further mutations.\\n-      exitStatus = renderRootSync(root, lanes);\\n-\\n-      // We need to check again if something threw\\n-      if (exitStatus === RootErrored) {\\n-        const errorRetryLanes = getLanesToRetrySynchronouslyOnError(root);\\n-        if (errorRetryLanes !== NoLanes) {\\n-          lanes = errorRetryLanes;\\n-          exitStatus = recoverFromConcurrentError(root, errorRetryLanes);\\n-          // We assume the tree is now consistent because we didn't yield to any\\n-          // concurrent events.\\n+    if (exitStatus === RootDidNotComplete) {\",\n",
      "    \"comment\": \"This is a new root exit status for when the render phase exits without completing. We treat this like a refresh transition: skip the commit phase and suspend the root so we don't continue working on it.\\r\\n\\r\\nIn the future, I expect we could use this mechanism to unwind from an aborted render without doing a second pass to render fallbacks and error boundaries.\",\n",
      "    \"offset\": 33,\n",
      "    \"comment_commit_id\": \"c14ca1f2373b4347260c520ffd5d11185820b8c6\"\n",
      "}\n"
     ]
    },
    {
     "name": "stderr",
     "output_type": "stream",
     "text": [
      "  0%|          | 0/50 [00:00<?, ?it/s]A decoder-only architecture is being used, but right-padding was detected! For correct generation results, please set `padding_side='left'` when initializing the tokenizer.\n",
      "  2%|▏         | 1/50 [00:18<15:05, 18.49s/it]A decoder-only architecture is being used, but right-padding was detected! For correct generation results, please set `padding_side='left'` when initializing the tokenizer.\n",
      "  4%|▍         | 2/50 [00:36<14:41, 18.37s/it]A decoder-only architecture is being used, but right-padding was detected! For correct generation results, please set `padding_side='left'` when initializing the tokenizer.\n",
      "  6%|▌         | 3/50 [00:55<14:22, 18.35s/it]A decoder-only architecture is being used, but right-padding was detected! For correct generation results, please set `padding_side='left'` when initializing the tokenizer.\n",
      "  8%|▊         | 4/50 [01:13<14:05, 18.39s/it]A decoder-only architecture is being used, but right-padding was detected! For correct generation results, please set `padding_side='left'` when initializing the tokenizer.\n",
      " 10%|█         | 5/50 [01:31<13:46, 18.36s/it]A decoder-only architecture is being used, but right-padding was detected! For correct generation results, please set `padding_side='left'` when initializing the tokenizer.\n",
      " 12%|█▏        | 6/50 [01:50<13:27, 18.35s/it]A decoder-only architecture is being used, but right-padding was detected! For correct generation results, please set `padding_side='left'` when initializing the tokenizer.\n",
      " 14%|█▍        | 7/50 [02:08<13:09, 18.37s/it]A decoder-only architecture is being used, but right-padding was detected! For correct generation results, please set `padding_side='left'` when initializing the tokenizer.\n",
      " 16%|█▌        | 8/50 [02:26<12:51, 18.38s/it]A decoder-only architecture is being used, but right-padding was detected! For correct generation results, please set `padding_side='left'` when initializing the tokenizer.\n",
      " 18%|█▊        | 9/50 [02:45<12:33, 18.39s/it]A decoder-only architecture is being used, but right-padding was detected! For correct generation results, please set `padding_side='left'` when initializing the tokenizer.\n",
      " 20%|██        | 10/50 [03:03<12:15, 18.40s/it]A decoder-only architecture is being used, but right-padding was detected! For correct generation results, please set `padding_side='left'` when initializing the tokenizer.\n",
      " 22%|██▏       | 11/50 [03:22<11:57, 18.40s/it]A decoder-only architecture is being used, but right-padding was detected! For correct generation results, please set `padding_side='left'` when initializing the tokenizer.\n",
      " 24%|██▍       | 12/50 [03:40<11:41, 18.46s/it]A decoder-only architecture is being used, but right-padding was detected! For correct generation results, please set `padding_side='left'` when initializing the tokenizer.\n",
      " 26%|██▌       | 13/50 [03:59<11:24, 18.51s/it]A decoder-only architecture is being used, but right-padding was detected! For correct generation results, please set `padding_side='left'` when initializing the tokenizer.\n",
      " 28%|██▊       | 14/50 [04:18<11:07, 18.53s/it]A decoder-only architecture is being used, but right-padding was detected! For correct generation results, please set `padding_side='left'` when initializing the tokenizer.\n",
      " 30%|███       | 15/50 [04:36<10:47, 18.50s/it]A decoder-only architecture is being used, but right-padding was detected! For correct generation results, please set `padding_side='left'` when initializing the tokenizer.\n",
      " 32%|███▏      | 16/50 [04:54<10:27, 18.46s/it]A decoder-only architecture is being used, but right-padding was detected! For correct generation results, please set `padding_side='left'` when initializing the tokenizer.\n",
      " 34%|███▍      | 17/50 [05:13<10:08, 18.44s/it]A decoder-only architecture is being used, but right-padding was detected! For correct generation results, please set `padding_side='left'` when initializing the tokenizer.\n",
      " 36%|███▌      | 18/50 [05:31<09:48, 18.40s/it]A decoder-only architecture is being used, but right-padding was detected! For correct generation results, please set `padding_side='left'` when initializing the tokenizer.\n",
      " 38%|███▊      | 19/50 [05:49<09:30, 18.41s/it]A decoder-only architecture is being used, but right-padding was detected! For correct generation results, please set `padding_side='left'` when initializing the tokenizer.\n",
      " 40%|████      | 20/50 [06:08<09:12, 18.43s/it]A decoder-only architecture is being used, but right-padding was detected! For correct generation results, please set `padding_side='left'` when initializing the tokenizer.\n",
      " 42%|████▏     | 21/50 [06:27<08:56, 18.49s/it]A decoder-only architecture is being used, but right-padding was detected! For correct generation results, please set `padding_side='left'` when initializing the tokenizer.\n",
      " 44%|████▍     | 22/50 [06:45<08:39, 18.55s/it]A decoder-only architecture is being used, but right-padding was detected! For correct generation results, please set `padding_side='left'` when initializing the tokenizer.\n",
      " 46%|████▌     | 23/50 [07:04<08:20, 18.55s/it]A decoder-only architecture is being used, but right-padding was detected! For correct generation results, please set `padding_side='left'` when initializing the tokenizer.\n",
      " 48%|████▊     | 24/50 [07:22<08:01, 18.54s/it]A decoder-only architecture is being used, but right-padding was detected! For correct generation results, please set `padding_side='left'` when initializing the tokenizer.\n",
      " 50%|█████     | 25/50 [07:41<07:44, 18.57s/it]A decoder-only architecture is being used, but right-padding was detected! For correct generation results, please set `padding_side='left'` when initializing the tokenizer.\n",
      " 52%|█████▏    | 26/50 [08:00<07:25, 18.57s/it]A decoder-only architecture is being used, but right-padding was detected! For correct generation results, please set `padding_side='left'` when initializing the tokenizer.\n",
      " 54%|█████▍    | 27/50 [08:18<07:06, 18.54s/it]A decoder-only architecture is being used, but right-padding was detected! For correct generation results, please set `padding_side='left'` when initializing the tokenizer.\n",
      " 56%|█████▌    | 28/50 [08:36<06:47, 18.51s/it]A decoder-only architecture is being used, but right-padding was detected! For correct generation results, please set `padding_side='left'` when initializing the tokenizer.\n",
      " 58%|█████▊    | 29/50 [08:55<06:28, 18.48s/it]A decoder-only architecture is being used, but right-padding was detected! For correct generation results, please set `padding_side='left'` when initializing the tokenizer.\n",
      " 60%|██████    | 30/50 [09:13<06:09, 18.45s/it]A decoder-only architecture is being used, but right-padding was detected! For correct generation results, please set `padding_side='left'` when initializing the tokenizer.\n",
      " 62%|██████▏   | 31/50 [09:32<05:50, 18.43s/it]A decoder-only architecture is being used, but right-padding was detected! For correct generation results, please set `padding_side='left'` when initializing the tokenizer.\n",
      " 64%|██████▍   | 32/50 [09:50<05:31, 18.41s/it]A decoder-only architecture is being used, but right-padding was detected! For correct generation results, please set `padding_side='left'` when initializing the tokenizer.\n",
      " 66%|██████▌   | 33/50 [10:08<05:12, 18.39s/it]A decoder-only architecture is being used, but right-padding was detected! For correct generation results, please set `padding_side='left'` when initializing the tokenizer.\n",
      " 68%|██████▊   | 34/50 [10:27<04:54, 18.39s/it]A decoder-only architecture is being used, but right-padding was detected! For correct generation results, please set `padding_side='left'` when initializing the tokenizer.\n",
      " 70%|███████   | 35/50 [10:45<04:35, 18.39s/it]A decoder-only architecture is being used, but right-padding was detected! For correct generation results, please set `padding_side='left'` when initializing the tokenizer.\n",
      " 72%|███████▏  | 36/50 [11:04<04:17, 18.41s/it]A decoder-only architecture is being used, but right-padding was detected! For correct generation results, please set `padding_side='left'` when initializing the tokenizer.\n",
      " 74%|███████▍  | 37/50 [11:22<03:59, 18.46s/it]A decoder-only architecture is being used, but right-padding was detected! For correct generation results, please set `padding_side='left'` when initializing the tokenizer.\n",
      " 76%|███████▌  | 38/50 [11:41<03:41, 18.47s/it]A decoder-only architecture is being used, but right-padding was detected! For correct generation results, please set `padding_side='left'` when initializing the tokenizer.\n",
      " 78%|███████▊  | 39/50 [11:59<03:24, 18.56s/it]A decoder-only architecture is being used, but right-padding was detected! For correct generation results, please set `padding_side='left'` when initializing the tokenizer.\n",
      " 80%|████████  | 40/50 [12:18<03:05, 18.54s/it]A decoder-only architecture is being used, but right-padding was detected! For correct generation results, please set `padding_side='left'` when initializing the tokenizer.\n",
      " 82%|████████▏ | 41/50 [12:36<02:46, 18.53s/it]A decoder-only architecture is being used, but right-padding was detected! For correct generation results, please set `padding_side='left'` when initializing the tokenizer.\n",
      " 84%|████████▍ | 42/50 [12:55<02:28, 18.54s/it]A decoder-only architecture is being used, but right-padding was detected! For correct generation results, please set `padding_side='left'` when initializing the tokenizer.\n",
      " 86%|████████▌ | 43/50 [13:13<02:09, 18.52s/it]A decoder-only architecture is being used, but right-padding was detected! For correct generation results, please set `padding_side='left'` when initializing the tokenizer.\n",
      " 88%|████████▊ | 44/50 [13:32<01:51, 18.53s/it]A decoder-only architecture is being used, but right-padding was detected! For correct generation results, please set `padding_side='left'` when initializing the tokenizer.\n",
      " 90%|█████████ | 45/50 [13:50<01:32, 18.48s/it]A decoder-only architecture is being used, but right-padding was detected! For correct generation results, please set `padding_side='left'` when initializing the tokenizer.\n",
      " 92%|█████████▏| 46/50 [14:09<01:13, 18.47s/it]A decoder-only architecture is being used, but right-padding was detected! For correct generation results, please set `padding_side='left'` when initializing the tokenizer.\n",
      " 94%|█████████▍| 47/50 [14:27<00:55, 18.46s/it]A decoder-only architecture is being used, but right-padding was detected! For correct generation results, please set `padding_side='left'` when initializing the tokenizer.\n",
      " 96%|█████████▌| 48/50 [14:46<00:36, 18.43s/it]A decoder-only architecture is being used, but right-padding was detected! For correct generation results, please set `padding_side='left'` when initializing the tokenizer.\n",
      " 98%|█████████▊| 49/50 [15:04<00:18, 18.44s/it]A decoder-only architecture is being used, but right-padding was detected! For correct generation results, please set `padding_side='left'` when initializing the tokenizer.\n",
      "100%|██████████| 50/50 [15:23<00:00, 18.46s/it]\n"
     ]
    }
   ],
   "source": [
    "file_path = \"test.jsonl.gz\"\n",
    "processed_dataset_test = load_and_filter_dataset(file_path)\n",
    "\n",
    "# 2. View the first record of your new dataset\n",
    "if processed_dataset_test:\n",
    "    print(\"First record of the processed dataset:\")\n",
    "    print(json.dumps(processed_dataset_test[0], indent=4)) # Pretty print the JSON\n",
    "else:\n",
    "    print(\"No data was processed. Check your file path and file content.\")\n",
    "\n",
    "test_prompts = [\n",
    "    format_prompt_for_inference(e['diff'])\n",
    "    for e in processed_dataset_test if e['diff'] and e['comment']\n",
    "]\n",
    "test_dataset = Dataset.from_list(test_prompts)\n",
    "\n",
    "\n",
    "\n",
    "subset_dataset = test_dataset.select(range(0, 800))\n",
    "test_loader = DataLoader(subset_dataset, batch_size=16, collate_fn=default_data_collator)\n",
    "\n",
    "generated_outputs = []\n",
    "references = []\n",
    "\n",
    "\n",
    "for i, batch in enumerate(tqdm(test_loader)):\n",
    "    input_ids = batch[\"input_ids\"].to(device)\n",
    "    attention_mask = batch[\"attention_mask\"].to(device)\n",
    "\n",
    "    with torch.no_grad():\n",
    "        output_ids = model.generate(\n",
    "            input_ids=input_ids,\n",
    "            attention_mask=attention_mask,\n",
    "            max_new_tokens=128,\n",
    "            do_sample=False,\n",
    "            pad_token_id=tokenizer.eos_token_id\n",
    "        )\n",
    "\n",
    "    decoded = tokenizer.decode(output_ids[0], skip_special_tokens=True)\n",
    "\n",
    "    # Remove prompt portion\n",
    "    input_text = tokenizer.decode(input_ids[0], skip_special_tokens=True)\n",
    "    response_part = decoded[len(input_text):].strip()\n",
    "\n",
    "    generated_outputs.append(response_part)\n",
    "    references.append(processed_dataset_test[i][\"comment\"])\n"
   ]
  },
  {
   "cell_type": "code",
   "execution_count": 48,
   "id": "9de6c1ab-a0a3-49c7-8e79-29b81d8a8073",
   "metadata": {},
   "outputs": [
    {
     "name": "stderr",
     "output_type": "stream",
     "text": [
      "Some weights of RobertaModel were not initialized from the model checkpoint at roberta-large and are newly initialized: ['pooler.dense.bias', 'pooler.dense.weight']\n",
      "You should probably TRAIN this model on a down-stream task to be able to use it for predictions and inference.\n"
     ]
    },
    {
     "name": "stdout",
     "output_type": "stream",
     "text": [
      "calculating scores...\n",
      "computing bert embedding.\n"
     ]
    },
    {
     "data": {
      "application/vnd.jupyter.widget-view+json": {
       "model_id": "144c0d794f254eafb24bb7fbb8f1d2e1",
       "version_major": 2,
       "version_minor": 0
      },
      "text/plain": [
       "  0%|          | 0/2 [00:00<?, ?it/s]"
      ]
     },
     "metadata": {},
     "output_type": "display_data"
    },
    {
     "name": "stdout",
     "output_type": "stream",
     "text": [
      "computing greedy matching.\n"
     ]
    },
    {
     "data": {
      "application/vnd.jupyter.widget-view+json": {
       "model_id": "72718a1e713c48a0902e523c5326df93",
       "version_major": 2,
       "version_minor": 0
      },
      "text/plain": [
       "  0%|          | 0/1 [00:00<?, ?it/s]"
      ]
     },
     "metadata": {},
     "output_type": "display_data"
    },
    {
     "name": "stdout",
     "output_type": "stream",
     "text": [
      "done in 0.68 seconds, 73.21 sentences/sec\n",
      "\n",
      "--- BERTScore ---\n",
      "Average Precision: 0.7929\n",
      "Average Recall:    0.8105\n",
      "Average F1 Score:  0.8013\n"
     ]
    }
   ],
   "source": [
    "# Compute BERTScore\n",
    "assert len(generated_outputs) == len(references), \"Mismatch in output and reference lengths\"\n",
    "\n",
    "P, R, F1 = score(generated_outputs, references, lang=\"en\", verbose=True)\n",
    "\n",
    "print(f\"\\n--- BERTScore ---\")\n",
    "print(f\"Average Precision: {P.mean().item():.4f}\")\n",
    "print(f\"Average Recall:    {R.mean().item():.4f}\")\n",
    "print(f\"Average F1 Score:  {F1.mean().item():.4f}\")"
   ]
  },
  {
   "cell_type": "code",
   "execution_count": 49,
   "id": "80e2e097-7157-43d1-a7ae-03da604ea244",
   "metadata": {},
   "outputs": [
    {
     "data": {
      "image/png": "[encoded data removed]",
      "text/plain": [
       "<Figure size 800x500 with 1 Axes>"
      ]
     },
     "metadata": {},
     "output_type": "display_data"
    }
   ],
   "source": [
    "\n",
    "f1_scores = F1.tolist()\n",
    "\n",
    "plt.figure(figsize=(8, 5))\n",
    "plt.hist(f1_scores, bins=20, edgecolor='black')\n",
    "plt.title(\"Histogram of BERTScore F1 Scores\")\n",
    "plt.xlabel(\"F1 Score\")\n",
    "plt.ylabel(\"Number of Samples\")\n",
    "plt.grid(True)\n",
    "plt.show()\n"
   ]
  },
  {
   "cell_type": "code",
   "execution_count": 50,
   "id": "9d6bb40a-af17-43d6-ac27-9dedd27f4627",
   "metadata": {},
   "outputs": [
    {
     "data": {
      "image/png": "[encoded data removed]",
      "text/plain": [
       "<Figure size 800x500 with 1 Axes>"
      ]
     },
     "metadata": {},
     "output_type": "display_data"
    }
   ],
   "source": [
    "prompt_lengths = [len(tokenizer.decode(eval_dataset[i][\"input_ids\"], skip_special_tokens=True).split()) for i in range(len(generated_outputs))]\n",
    "\n",
    "plt.figure(figsize=(8, 5))\n",
    "plt.scatter(prompt_lengths, f1_scores, alpha=0.7)\n",
    "plt.title(\"BERTScore F1 vs. Prompt Length\")\n",
    "plt.xlabel(\"Prompt Length (tokens)\")\n",
    "plt.ylabel(\"F1 Score\")\n",
    "plt.grid(True)\n",
    "plt.show()\n"
   ]
  },
  {
   "cell_type": "code",
   "execution_count": 51,
   "id": "661ed7fa-09fb-409b-b739-cc5acedce61a",
   "metadata": {},
   "outputs": [
    {
     "data": {
      "text/html": [
       "<div>\n",
       "<style scoped>\n",
       "    .dataframe tbody tr th:only-of-type {\n",
       "        vertical-align: middle;\n",
       "    }\n",
       "\n",
       "    .dataframe tbody tr th {\n",
       "        vertical-align: top;\n",
       "    }\n",
       "\n",
       "    .dataframe thead th {\n",
       "        text-align: right;\n",
       "    }\n",
       "</style>\n",
       "<table border=\"1\" class=\"dataframe\">\n",
       "  <thead>\n",
       "    <tr style=\"text-align: right;\">\n",
       "      <th></th>\n",
       "      <th>F1 Score</th>\n",
       "      <th>Generated</th>\n",
       "      <th>Reference</th>\n",
       "    </tr>\n",
       "  </thead>\n",
       "  <tbody>\n",
       "    <tr>\n",
       "      <th>0</th>\n",
       "      <td>0.736234</td>\n",
       "      <td>package.json\\n\\n```json\\n{\\n  \"name\": \"react-d...</td>\n",
       "      <td>Stray log</td>\n",
       "    </tr>\n",
       "    <tr>\n",
       "      <th>1</th>\n",
       "      <td>0.750604</td>\n",
       "      <td>package.json\\n\\nThe package.json file is not a...</td>\n",
       "      <td>This should minify better:\\r\\n\\r\\n```js\\r\\n   ...</td>\n",
       "    </tr>\n",
       "    <tr>\n",
       "      <th>2</th>\n",
       "      <td>0.753989</td>\n",
       "      <td>&lt;COMMENT offset=\"None\"&gt;\\n\\n### Output:\\n\\n```d...</td>\n",
       "      <td>[CI is using experimental](https://app.circlec...</td>\n",
       "    </tr>\n",
       "    <tr>\n",
       "      <th>3</th>\n",
       "      <td>0.754049</td>\n",
       "      <td>package.json\\n\\n### Output:\\n\\n&lt;COMMENT offset...</td>\n",
       "      <td>TIL</td>\n",
       "    </tr>\n",
       "    <tr>\n",
       "      <th>4</th>\n",
       "      <td>0.763996</td>\n",
       "      <td>package.json\\n\\n```json\\n{\\n  \"name\": \"jenkins...</td>\n",
       "      <td>The variable `supportsHydration` has been judg...</td>\n",
       "    </tr>\n",
       "    <tr>\n",
       "      <th>5</th>\n",
       "      <td>0.764542</td>\n",
       "      <td>package.json\\n\\n### Output:\\n\\n&lt;COMMENT offset...</td>\n",
       "      <td>Curious why you need `Reflect.get(...arguments...</td>\n",
       "    </tr>\n",
       "    <tr>\n",
       "      <th>6</th>\n",
       "      <td>0.771939</td>\n",
       "      <td>package.json\\n\\n```json\\n{\\n  \"name\": \"jenkins...</td>\n",
       "      <td>We should really avoid this stuff because it m...</td>\n",
       "    </tr>\n",
       "    <tr>\n",
       "      <th>7</th>\n",
       "      <td>0.774591</td>\n",
       "      <td>package.json\\n\\n### Output:\\n\\n### Comment:\\n\\...</td>\n",
       "      <td>Caused by https://github.com/facebook/react/pu...</td>\n",
       "    </tr>\n",
       "    <tr>\n",
       "      <th>8</th>\n",
       "      <td>0.778534</td>\n",
       "      <td>package.json\\n\\n```json\\n{\\n  \"name\": \"jenkins...</td>\n",
       "      <td>Since this is not prod behavior it’s a bit mor...</td>\n",
       "    </tr>\n",
       "    <tr>\n",
       "      <th>9</th>\n",
       "      <td>0.781958</td>\n",
       "      <td>package.json\\n\\nThe package.json file is not r...</td>\n",
       "      <td>This type implies the possibility of a nonsens...</td>\n",
       "    </tr>\n",
       "  </tbody>\n",
       "</table>\n",
       "</div>"
      ],
      "text/plain": [
       "   F1 Score                                          Generated  \\\n",
       "0  0.736234  package.json\\n\\n```json\\n{\\n  \"name\": \"react-d...   \n",
       "1  0.750604  package.json\\n\\nThe package.json file is not a...   \n",
       "2  0.753989  <COMMENT offset=\"None\">\\n\\n### Output:\\n\\n```d...   \n",
       "3  0.754049  package.json\\n\\n### Output:\\n\\n<COMMENT offset...   \n",
       "4  0.763996  package.json\\n\\n```json\\n{\\n  \"name\": \"jenkins...   \n",
       "5  0.764542  package.json\\n\\n### Output:\\n\\n<COMMENT offset...   \n",
       "6  0.771939  package.json\\n\\n```json\\n{\\n  \"name\": \"jenkins...   \n",
       "7  0.774591  package.json\\n\\n### Output:\\n\\n### Comment:\\n\\...   \n",
       "8  0.778534  package.json\\n\\n```json\\n{\\n  \"name\": \"jenkins...   \n",
       "9  0.781958  package.json\\n\\nThe package.json file is not r...   \n",
       "\n",
       "                                           Reference  \n",
       "0                                          Stray log  \n",
       "1  This should minify better:\\r\\n\\r\\n```js\\r\\n   ...  \n",
       "2  [CI is using experimental](https://app.circlec...  \n",
       "3                                                TIL  \n",
       "4  The variable `supportsHydration` has been judg...  \n",
       "5  Curious why you need `Reflect.get(...arguments...  \n",
       "6  We should really avoid this stuff because it m...  \n",
       "7  Caused by https://github.com/facebook/react/pu...  \n",
       "8  Since this is not prod behavior it’s a bit mor...  \n",
       "9  This type implies the possibility of a nonsens...  "
      ]
     },
     "execution_count": 51,
     "metadata": {},
     "output_type": "execute_result"
    }
   ],
   "source": [
    "import pandas as pd\n",
    "\n",
    "# Create table of predictions and scores\n",
    "df = pd.DataFrame({\n",
    "    \"F1 Score\": f1_scores,\n",
    "    \"Generated\": generated_outputs,\n",
    "    \"Reference\": references\n",
    "})\n",
    "\n",
    "# Sort by lowest F1\n",
    "df_sorted = df.sort_values(\"F1 Score\").reset_index(drop=True)\n",
    "\n",
    "# Show worst 10\n",
    "df_sorted.head(10)\n"
   ]
  },
  {
   "cell_type": "code",
   "execution_count": null,
   "id": "5d338eeb-94ef-434d-9270-300c25a36b2e",
   "metadata": {},
   "outputs": [],
   "source": []
  }
 ],
 "metadata": {
  "kernelspec": {
   "display_name": "Python 3 (ipykernel)",
   "language": "python",
   "name": "python3"
  },
  "language_info": {
   "codemirror_mode": {
    "name": "ipython",
    "version": 3
   },
   "file_extension": ".py",
   "mimetype": "text/x-python",
   "name": "python",
   "nbconvert_exporter": "python",
   "pygments_lexer": "ipython3",
   "version": "3.10.16"
  }
 },
 "nbformat": 4,
 "nbformat_minor": 5
}
