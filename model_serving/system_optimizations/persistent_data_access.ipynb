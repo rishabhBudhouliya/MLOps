{
 "cells": [
  {
   "cell_type": "markdown",
   "id": "b05d7981-0c5b-4ecc-8364-a5fd6c71c0ed",
   "metadata": {},
   "source": [
    "Streaming model from CHI@UC object-store to docker jupyter instead of saving the model locally and running it."
   ]
  },
  {
   "cell_type": "raw",
   "id": "5762b15e-080a-4e1a-93a8-a45465eec2d1",
   "metadata": {},
   "source": [
    "curl https://rclone.org/install.sh | sudo bash"
   ]
  },
  {
   "cell_type": "raw",
   "id": "0fb8db50-f056-4a9c-91f7-c3b86f9a6735",
   "metadata": {},
   "source": [
    "sudo sed -i '/^#user_allow_other/s/^#//' /etc/fuse.conf"
   ]
  },
  {
   "cell_type": "raw",
   "id": "765bc2c1-3472-4d94-9af4-a0a2aee01577",
   "metadata": {},
   "source": [
    "mkdir -p ~/.config/rclone"
   ]
  },
  {
   "cell_type": "raw",
   "id": "47874004-5573-40a9-8285-5d904da2f595",
   "metadata": {},
   "source": [
    "nano  ~/.config/rclone/rclone.conf"
   ]
  },
  {
   "cell_type": "markdown",
   "id": "a0a69217-26ad-4d47-a9f9-b65b93e20343",
   "metadata": {},
   "source": [
    "Paste the below into rclone file. The values YOUR_USER_ID can be found in Users inside Identity and YOUR_APP_CRED_ID, YOUR_APP_CRED_SECRET are the credentials unique to the project, created on Chameleon App Credentials under Identity. (We can't access any object store even if it's in public access without credentials. Even if we're only reading the data)\n",
    "\n",
    "\n",
    "We'll add the below snippet of code into the rclone file\n"
   ]
  },
  {
   "cell_type": "raw",
   "id": "ab2ed660-3214-4708-9c75-c258991c3dca",
   "metadata": {},
   "source": [
    "[chi_uc]\n",
    "type = swift\\\n",
    "user_id = YOUR_USER_ID\\\n",
    "application_credential_id = YOUR_APP_CRED_ID\\\n",
    "application_credential_secret = YOUR_APP_CRED_SECRET\\\n",
    "auth = https://chi.uc.chameleoncloud.org:5000/v3\\\n",
    "region = CHI@UC"
   ]
  },
  {
   "cell_type": "markdown",
   "id": "c4d27030-ff57-47f4-b8a9-2a851cfe8e08",
   "metadata": {},
   "source": [
    "Mounting the object store container to VM"
   ]
  },
  {
   "cell_type": "raw",
   "id": "3048c3a8-c772-4b85-8a73-989ba9c349d0",
   "metadata": {},
   "source": [
    "sudo mkdir -p /mnt/object\n",
    "sudo chown -R cc /mnt/object\n",
    "rclone mount chi_uc:object-persist-nd2745 /mnt/object --read-only --allow-other --daemon"
   ]
  },
  {
   "cell_type": "markdown",
   "id": "73710ab3-2585-4314-b923-442291043e1a",
   "metadata": {},
   "source": [
    "Restart the container if it's already running"
   ]
  },
  {
   "cell_type": "markdown",
   "id": "79138b45-9fe8-426d-a7d6-3c1ed02902e6",
   "metadata": {},
   "source": [
    "docker stop jupyter "
   ]
  },
  {
   "cell_type": "raw",
   "id": "753531f7-ba3f-4320-aebb-5586bb834b6f",
   "metadata": {},
   "source": [
    "docker run -d --rm \\\n",
    "  --gpus all \\\n",
    "  --shm-size 64G \\\n",
    "  -v /home/cc/MLOps/model_serving/system_optimizations:/home/jovyan/work \\\n",
    "  --mount type=bind,source=/mnt/object,target=/mnt/object,readonly \\\n",
    "  -p 8888:8888 \\\n",
    "  --user $(id -u):$(id -g) \\\n",
    "  --name jupyter \\\n",
    "  jupyter-onnx\n"
   ]
  },
  {
   "cell_type": "markdown",
   "id": "ee1e86ff-7dee-4cc5-82a1-ac1f38deb9ed",
   "metadata": {},
   "source": [
    "Now, the model is available in Jupyter at /mnt/object/my_model.pth in the instance"
   ]
  },
  {
   "cell_type": "raw",
   "id": "039f3923-dca4-4a02-a849-385d59d9673c",
   "metadata": {},
   "source": [
    "The rest of the steps are in model_optimizations"
   ]
  }
 ],
 "metadata": {
  "kernelspec": {
   "display_name": "Python 3 (ipykernel)",
   "language": "python",
   "name": "python3"
  },
  "language_info": {
   "codemirror_mode": {
    "name": "ipython",
    "version": 3
   },
   "file_extension": ".py",
   "mimetype": "text/x-python",
   "name": "python",
   "nbconvert_exporter": "python",
   "pygments_lexer": "ipython3",
   "version": "3.12.8"
  }
 },
 "nbformat": 4,
 "nbformat_minor": 5
}
