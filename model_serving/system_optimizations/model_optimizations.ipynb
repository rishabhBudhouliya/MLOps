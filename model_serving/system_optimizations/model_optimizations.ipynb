{
 "cells": [
  {
   "cell_type": "code",
   "execution_count": 1,
   "id": "0874e8ae-b6ed-4294-b7bb-a48615cf3ee3",
   "metadata": {},
   "outputs": [],
   "source": [
    "# Load the model"
   ]
  },
  {
   "cell_type": "code",
   "execution_count": null,
   "id": "9dd9f743-60e1-4851-9c70-cd1ec525d3af",
   "metadata": {},
   "outputs": [],
   "source": [
    "!wget https://chi.uc.chameleoncloud.org:7480/swift/v1/AUTH_7c0a7a1952e44c94aa75cae1ff5dc9b4/object-persist-project32/"
   ]
  },
  {
   "cell_type": "code",
   "execution_count": 4,
   "id": "3e07c58e-c656-4bde-acff-8ba970951666",
   "metadata": {},
   "outputs": [
    {
     "name": "stdout",
     "output_type": "stream",
     "text": [
      "--2025-05-09 04:33:18--  https://objects.chameleoncloud.org/v1/AUTH_CHI-7c0a7a1952e44c94aa75cae1ff5dc9b4/object-persist-project32\n",
      "failed: Name or service not known.rg (objects.chameleoncloud.org)... \n",
      "wget: unable to resolve host address ‘objects.chameleoncloud.org’\n"
     ]
    }
   ],
   "source": [
    "!wget https://objects.chameleoncloud.org/v1/AUTH_CHI-7c0a7a1952e44c94aa75cae1ff5dc9b4/object-persist-project32 -O /home/jovyan/work/model.onnx"
   ]
  },
  {
   "cell_type": "code",
   "execution_count": null,
   "id": "755593ec-5202-45ec-a1e9-4bf48536be4b",
   "metadata": {},
   "outputs": [],
   "source": []
  },
  {
   "cell_type": "code",
   "execution_count": null,
   "id": "9752de0a-5d13-4dcd-9004-d5a709a69ac9",
   "metadata": {},
   "outputs": [],
   "source": []
  }
 ],
 "metadata": {
  "kernelspec": {
   "display_name": "Python 3 (ipykernel)",
   "language": "python",
   "name": "python3"
  },
  "language_info": {
   "codemirror_mode": {
    "name": "ipython",
    "version": 3
   },
   "file_extension": ".py",
   "mimetype": "text/x-python",
   "name": "python",
   "nbconvert_exporter": "python",
   "pygments_lexer": "ipython3",
   "version": "3.12.8"
  }
 },
 "nbformat": 4,
 "nbformat_minor": 5
}
