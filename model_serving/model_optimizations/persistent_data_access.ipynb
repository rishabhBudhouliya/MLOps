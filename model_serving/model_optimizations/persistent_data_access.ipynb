{
 "cells": [
  {
   "cell_type": "markdown",
   "id": "b05d7981-0c5b-4ecc-8364-a5fd6c71c0ed",
   "metadata": {},
   "source": [
    "Streaming model and data from CHI@UC object-store to docker jupyter instead of saving the model locally and running it."
   ]
  },
  {
   "cell_type": "code",
   "execution_count": null,
   "id": "5762b15e-080a-4e1a-93a8-a45465eec2d1",
   "metadata": {
    "vscode": {
     "languageId": "shellscript"
    }
   },
   "outputs": [],
   "source": [
    "curl https://rclone.org/install.sh | sudo bash"
   ]
  },
  {
   "cell_type": "code",
   "execution_count": null,
   "id": "0fb8db50-f056-4a9c-91f7-c3b86f9a6735",
   "metadata": {
    "vscode": {
     "languageId": "shellscript"
    }
   },
   "outputs": [],
   "source": [
    "sudo sed -i '/^#user_allow_other/s/^#//' /etc/fuse.conf"
   ]
  },
  {
   "cell_type": "code",
   "execution_count": null,
   "id": "765bc2c1-3472-4d94-9af4-a0a2aee01577",
   "metadata": {
    "vscode": {
     "languageId": "shellscript"
    }
   },
   "outputs": [],
   "source": [
    "mkdir -p ~/.config/rclone"
   ]
  },
  {
   "cell_type": "code",
   "execution_count": null,
   "id": "47874004-5573-40a9-8285-5d904da2f595",
   "metadata": {
    "vscode": {
     "languageId": "shellscript"
    }
   },
   "outputs": [],
   "source": [
    "nano  ~/.config/rclone/rclone.conf"
   ]
  },
  {
   "cell_type": "markdown",
   "id": "a0a69217-26ad-4d47-a9f9-b65b93e20343",
   "metadata": {},
   "source": [
    "Paste the below into rclone file. The values YOUR_USER_ID can be found in Users inside Identity and YOUR_APP_CRED_ID, YOUR_APP_CRED_SECRET are the credentials unique to the project, created on Chameleon App Credentials under Identity. (We can't access any object store even if it's in public access without credentials. Even if we're only reading the data)\n",
    "\n",
    "\n",
    "We'll add the below snippet of code into the rclone file\n"
   ]
  },
  {
   "cell_type": "code",
   "execution_count": null,
   "id": "ab2ed660-3214-4708-9c75-c258991c3dca",
   "metadata": {
    "vscode": {
     "languageId": "shellscript"
    }
   },
   "outputs": [],
   "source": [
    "[chi_uc]\n",
    "type = swift\n",
    "user_id = CHI_UC_YOUR_USER_ID\n",
    "application_credential_id = CHI_UC_YOUR_APP_CRED_ID\n",
    "application_credential_secret = CHI_UC_YOUR_APP_CRED_SECRET\n",
    "auth = https://chi.uc.chameleoncloud.org:5000/v3\n",
    "region = CHI@UC\n",
    "\n",
    "[chi_tacc]\n",
    "type = swift\n",
    "user_id = CHI_TACC_YOUR_USER_ID\n",
    "application_credential_id = CHI_TACC_YOUR_APP_CRED_ID\n",
    "application_credential_secret = CHI_TACC_YOUR_APP_CRED_SECRET\n",
    "auth = https://chi.tacc.chameleoncloud.org:5000/v3\n",
    "region = CHI@TACC"
   ]
  },
  {
   "cell_type": "markdown",
   "id": "c4d27030-ff57-47f4-b8a9-2a851cfe8e08",
   "metadata": {},
   "source": [
    "Mounting the object store container to VM"
   ]
  },
  {
   "cell_type": "code",
   "execution_count": null,
   "id": "3048c3a8-c772-4b85-8a73-989ba9c349d0",
   "metadata": {
    "vscode": {
     "languageId": "shellscript"
    }
   },
   "outputs": [],
   "source": [
    "sudo mkdir -p /mnt/object /mnt/object_group\n",
    "sudo chown -R cc /mnt/object /mnt/object_group\n",
    "rclone mount chi_uc:object-persist-project32 /mnt/object --read-only --allow-other --daemon\n",
    "rclone mount chi_tacc:object-persist-group32 /mnt/object_group --read-only --allow-other --daemon"
   ]
  },
  {
   "cell_type": "markdown",
   "id": "a31dce91",
   "metadata": {},
   "source": [
    "Check if the mount is successful"
   ]
  },
  {
   "cell_type": "code",
   "execution_count": null,
   "id": "14037195",
   "metadata": {
    "vscode": {
     "languageId": "shellscript"
    }
   },
   "outputs": [],
   "source": [
    "ls /mnt/object | head -n 5\n",
    "ls /mnt/object_group | head -n 5"
   ]
  },
  {
   "cell_type": "markdown",
   "id": "73710ab3-2585-4314-b923-442291043e1a",
   "metadata": {},
   "source": [
    "Restart the container if it's already running"
   ]
  },
  {
   "cell_type": "markdown",
   "id": "79138b45-9fe8-426d-a7d6-3c1ed02902e6",
   "metadata": {},
   "source": [
    "docker stop jupyter "
   ]
  },
  {
   "cell_type": "code",
   "execution_count": null,
   "id": "753531f7-ba3f-4320-aebb-5586bb834b6f",
   "metadata": {
    "vscode": {
     "languageId": "shellscript"
    }
   },
   "outputs": [],
   "source": [
    "docker run -d --rm \\\n",
    "      --gpus all \\\n",
    "      --shm-size 64G \\\n",
    "      -v /home/cc/MLOps/model_serving/system_optimizations:/home/jovyan/work \\\n",
    "      --mount type=bind,source=/mnt/object,target=/mnt/object,readonly \\\n",
    "      --mount type=bind,source=/mnt/object_group,target=/mnt/object_group,readonly \\\n",
    "      -p 8888:8888   --user $(id -u):$(id -g) \\\n",
    "      --name jupyter \\\n",
    "      jupyter-onnx"
   ]
  },
  {
   "cell_type": "markdown",
   "id": "ee1e86ff-7dee-4cc5-82a1-ac1f38deb9ed",
   "metadata": {},
   "source": [
    "Now, the model is available in Jupyter at /mnt/object/my_model.pth in the instance"
   ]
  },
  {
   "cell_type": "code",
   "execution_count": null,
   "id": "98d25289",
   "metadata": {
    "vscode": {
     "languageId": "shellscript"
    }
   },
   "outputs": [],
   "source": [
    "docker logs jupyter"
   ]
  },
  {
   "cell_type": "markdown",
   "id": "6277613f",
   "metadata": {},
   "source": [
    "Find a line similar to the below and change the ip to our floating ip"
   ]
  },
  {
   "cell_type": "code",
   "execution_count": null,
   "id": "15faafc9",
   "metadata": {
    "vscode": {
     "languageId": "shellscript"
    }
   },
   "outputs": [],
   "source": [
    "http://127.0.0.1:8888/lab?token=1150b6ba3fe76e40359a9b4a3b0df2015e847e91305ee852"
   ]
  },
  {
   "cell_type": "markdown",
   "id": "039f3923-dca4-4a02-a849-385d59d9673c",
   "metadata": {},
   "source": [
    "The rest of the steps are in model_optimizations"
   ]
  }
 ],
 "metadata": {
  "kernelspec": {
   "display_name": "Python 3 (ipykernel)",
   "language": "python",
   "name": "python3"
  },
  "language_info": {
   "codemirror_mode": {
    "name": "ipython",
    "version": 3
   },
   "file_extension": ".py",
   "mimetype": "text/x-python",
   "name": "python",
   "nbconvert_exporter": "python",
   "pygments_lexer": "ipython3",
   "version": "3.12.8"
  }
 },
 "nbformat": 4,
 "nbformat_minor": 5
}
