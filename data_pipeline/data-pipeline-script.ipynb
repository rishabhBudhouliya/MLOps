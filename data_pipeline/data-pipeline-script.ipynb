{
 "cells": [
  {
   "cell_type": "markdown",
   "id": "b8ff04f1-cba2-435e-b60d-c3267b0119db",
   "metadata": {},
   "source": [
    "## Create a VM instance"
   ]
  },
  {
   "cell_type": "code",
   "execution_count": null,
   "id": "6a8070f3-7259-4624-8772-6a5c05891577",
   "metadata": {},
   "outputs": [],
   "source": [
    "from chi import server, context\n",
    "import chi, os, time, datetime\n",
    "\n",
    "context.version = \"1.0\" \n",
    "context.choose_project()\n",
    "context.choose_site(default=\"KVM@TACC\")"
   ]
  },
  {
   "cell_type": "code",
   "execution_count": null,
   "id": "db0d4e27-3524-473b-9823-0738d8047213",
   "metadata": {},
   "outputs": [],
   "source": [
    "username = os.getenv('USER') # all exp resources will have this prefix\n",
    "s = server.Server(\n",
    "    f\"node-project32\", \n",
    "    image_name=\"CC-Ubuntu24.04\",\n",
    "    flavor_name=\"m1.large\"\n",
    ")\n",
    "s.submit(idempotent=True)"
   ]
  },
  {
   "cell_type": "code",
   "execution_count": null,
   "id": "124cf23f-36c9-49f9-88a5-330ac328a222",
   "metadata": {},
   "outputs": [],
   "source": [
    "s.associate_floating_ip()"
   ]
  },
  {
   "cell_type": "code",
   "execution_count": null,
   "id": "6b463243-a6ce-4f0a-9032-1d4d29b96a39",
   "metadata": {},
   "outputs": [],
   "source": [
    "s.refresh()\n",
    "s.check_connectivity()"
   ]
  },
  {
   "cell_type": "code",
   "execution_count": null,
   "id": "5d3ea95a-b739-470d-b8a6-9e4f95698d32",
   "metadata": {},
   "outputs": [],
   "source": [
    "security_groups = [\n",
    "  {'name': \"allow-ssh\", 'port': 22, 'description': \"Enable SSH traffic on TCP port 22\"},\n",
    "  {'name': \"allow-8888\", 'port': 8888, 'description': \"Enable TCP port 8888 (used by Jupyter)\"},\n",
    "  {'name': \"allow-8000\", 'port': 8000, 'description': \"Enable TCP port 8000 (used by MLFlow)\"},\n",
    "  {'name': \"allow-9000\", 'port': 9000, 'description': \"Enable TCP port 9000 (used by MinIO API)\"},\n",
    "  {'name': \"allow-9001\", 'port': 9001, 'description': \"Enable TCP port 9001 (used by MinIO Web UI)\"}\n",
    "]"
   ]
  },
  {
   "cell_type": "code",
   "execution_count": null,
   "id": "503fdd88-63ef-42cc-953b-65e214eba09b",
   "metadata": {},
   "outputs": [],
   "source": [
    "# configure openstacksdk for actions unsupported by python-chi\n",
    "os_conn = chi.clients.connection()\n",
    "nova_server = chi.nova().servers.get(s.id)\n",
    "\n",
    "for sg in security_groups:\n",
    "\n",
    "  if not os_conn.get_security_group(sg['name']):\n",
    "      os_conn.create_security_group(sg['name'], sg['description'])\n",
    "      os_conn.create_security_group_rule(sg['name'], port_range_min=sg['port'], port_range_max=sg['port'], protocol='tcp', remote_ip_prefix='0.0.0.0/0')\n",
    "\n",
    "  nova_server.add_security_group(sg['name'])\n",
    "\n",
    "print(f\"updated security groups: {[group.name for group in nova_server.list_security_group()]}\")"
   ]
  },
  {
   "cell_type": "code",
   "execution_count": null,
   "id": "6e047450-c783-44b6-99bf-e475f0ca7629",
   "metadata": {},
   "outputs": [],
   "source": [
    "s.execute(\"git clone https://github.com/BugBeak/MLOps/tree/main/data_pipeline\")"
   ]
  },
  {
   "cell_type": "code",
   "execution_count": 1,
   "id": "fe794396-ec70-459f-8700-154778646531",
   "metadata": {},
   "outputs": [
    {
     "ename": "NameError",
     "evalue": "name 's' is not defined",
     "output_type": "error",
     "traceback": [
      "\u001b[31m---------------------------------------------------------------------------\u001b[39m",
      "\u001b[31mNameError\u001b[39m                                 Traceback (most recent call last)",
      "\u001b[36mCell\u001b[39m\u001b[36m \u001b[39m\u001b[32mIn[1]\u001b[39m\u001b[32m, line 1\u001b[39m\n\u001b[32m----> \u001b[39m\u001b[32m1\u001b[39m \u001b[43ms\u001b[49m.execute(\u001b[33m\"\u001b[39m\u001b[33mexport GITHUB_TOKEN=\u001b[39m\u001b[38;5;130;01m\\\"\u001b[39;00m\u001b[33myour_actual_token\u001b[39m\u001b[38;5;130;01m\\\"\u001b[39;00m\u001b[33m\"\u001b[39m)\n",
      "\u001b[31mNameError\u001b[39m: name 's' is not defined"
     ]
    }
   ],
   "source": [
    "s.execute(\"export GITHUB_TOKEN=\\\"your_actual_token\\\"\")"
   ]
  },
  {
   "cell_type": "markdown",
   "id": "1c3e9b14-f213-4366-91f6-199a2d77e0c9",
   "metadata": {},
   "source": [
    "## Setup Docker"
   ]
  },
  {
   "cell_type": "code",
   "execution_count": null,
   "id": "c969eeaf-baa2-4b80-990e-130d48199c3f",
   "metadata": {},
   "outputs": [],
   "source": [
    "s.execute(\"curl -sSL https://get.docker.com/ | sudo sh\")\n",
    "s.execute(\"sudo groupadd -f docker; sudo usermod -aG docker $USER\")"
   ]
  },
  {
   "cell_type": "markdown",
   "id": "6eed61b6-60a4-4d05-a278-4c6b6234f836",
   "metadata": {},
   "source": [
    "## Open an SSH session\n",
    "Finally, open an SSH sesson on your server. From your local terminal, run\n",
    "\n",
    "ssh -i ~/.ssh/id_rsa_chameleon cc@A.B.C.D"
   ]
  },
  {
   "cell_type": "markdown",
   "id": "634c66e9-acc1-4864-be94-0e2ac2e0382d",
   "metadata": {},
   "source": [
    "## Setting up rclone"
   ]
  },
  {
   "cell_type": "code",
   "execution_count": null,
   "id": "628872e7-407e-4860-8a9f-1b41b87a3d0c",
   "metadata": {},
   "outputs": [],
   "source": [
    "sudo sed -i '/^#user_allow_other/s/^#//' /etc/fuse.conf\n",
    "\n",
    "mkdir -p ~/.config/rclone\n",
    "nano  ~/.config/rclone/rclone.conf\n",
    "\n",
    "[chi_tacc]\n",
    "type = swift\n",
    "user_id = YOUR_USER_ID\n",
    "application_credential_id = APP_CRED_ID\n",
    "application_credential_secret = APP_CRED_SECRET\n",
    "auth = https://chi.tacc.chameleoncloud.org:5000/v3\n",
    "region = CHI@TACC"
   ]
  },
  {
   "cell_type": "markdown",
   "id": "e5eac5c0-f184-4d3a-ae2e-8469969f936c",
   "metadata": {},
   "source": [
    "## Building the docker image"
   ]
  },
  {
   "cell_type": "code",
   "execution_count": 2,
   "id": "77d1f85b-043f-49e0-be81-039f99357903",
   "metadata": {},
   "outputs": [
    {
     "name": "stdout",
     "output_type": "stream",
     "text": [
      "[Errno 2] No such file or directory: '/Users/rishabhbudhouliya/data_pipeline'\n",
      "/Users/rishabhbudhouliya/nyu/spring2025/mlops/MLOps/data_pipeline\n"
     ]
    }
   ],
   "source": [
    "s.execute(\"cd ~/data_pipeline\")\n",
    "\n",
    "# Build data pipeline docker image\n",
    "s.execute(\"docker compose build\")"
   ]
  },
  {
   "cell_type": "markdown",
   "id": "e86033cb-ed29-412f-be17-73e8744c6ff1",
   "metadata": {},
   "source": [
    "## The data pipeline runs on three modes:\n",
    "1. remote\n",
    "2. local\n",
    "3. debug\n"
   ]
  },
  {
   "cell_type": "code",
   "execution_count": 5,
   "id": "cbc75795-57de-41d8-afe5-05540ef0a65c",
   "metadata": {},
   "outputs": [
    {
     "ename": "NameError",
     "evalue": "name 's' is not defined",
     "output_type": "error",
     "traceback": [
      "\u001b[31m---------------------------------------------------------------------------\u001b[39m",
      "\u001b[31mNameError\u001b[39m                                 Traceback (most recent call last)",
      "\u001b[36mCell\u001b[39m\u001b[36m \u001b[39m\u001b[32mIn[5]\u001b[39m\u001b[32m, line 1\u001b[39m\n\u001b[32m----> \u001b[39m\u001b[32m1\u001b[39m \u001b[43ms\u001b[49m.execute(\u001b[33m\"\u001b[39m\u001b[33mdocker compose run --rm pipeline python run_pipeline.py --config /app/config.yaml --intermediate-dir /app/pipeline_intermediate --local-raw-output-dir /app/pipeline_output_raw\u001b[39m\u001b[33m\"\u001b[39m)\n\u001b[32m      3\u001b[39m \u001b[38;5;66;03m## local mode\u001b[39;00m\n\u001b[32m      4\u001b[39m s.execute(\u001b[33m\"\u001b[39m\u001b[33mdocker compose run --rm pipeline python run_pipeline.py --config /app/config.yaml --intermediate-dir /app/pipeline_intermediate --local-raw-output-dir /app/pipeline_output_raw --local\u001b[39m\u001b[33m\"\u001b[39m)\n",
      "\u001b[31mNameError\u001b[39m: name 's' is not defined"
     ]
    }
   ],
   "source": [
    "s.execute(\"docker compose run --rm pipeline python run_pipeline.py --config /app/config.yaml --intermediate-dir /app/pipeline_intermediate --local-raw-output-dir /app/pipeline_output_raw\")\n",
    "\n",
    "## local mode\n",
    "s.execute(\"docker compose run --rm pipeline python run_pipeline.py --config /app/config.yaml --intermediate-dir /app/pipeline_intermediate --local-raw-output-dir /app/pipeline_output_raw --local\")"
   ]
  }
 ],
 "metadata": {
  "kernelspec": {
   "display_name": "Python 3 (ipykernel)",
   "language": "python",
   "name": "python3"
  },
  "language_info": {
   "codemirror_mode": {
    "name": "ipython",
    "version": 3
   },
   "file_extension": ".py",
   "mimetype": "text/x-python",
   "name": "python",
   "nbconvert_exporter": "python",
   "pygments_lexer": "ipython3",
   "version": "3.13.2"
  }
 },
 "nbformat": 4,
 "nbformat_minor": 5
}
